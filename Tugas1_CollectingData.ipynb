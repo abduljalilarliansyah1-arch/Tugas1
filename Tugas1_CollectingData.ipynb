{
  "nbformat": 4,
  "nbformat_minor": 0,
  "metadata": {
    "colab": {
      "provenance": []
    },
    "kernelspec": {
      "name": "python3",
      "display_name": "Python 3"
    },
    "language_info": {
      "name": "python"
    }
  },
  "cells": [
    {
      "cell_type": "code",
      "source": [
        "import pandas as pd\n",
        "\n",
        "# path file di Colab (cek nama file yg diupload)\n",
        "file_path = \"Online Retail.xlsx\"\n",
        "\n",
        "# load dataset\n",
        "df = pd.read_excel(file_path)\n",
        "\n",
        "# ambil sample 1500 baris\n",
        "df_sample = df.sample(n=1500, random_state=42)\n",
        "\n",
        "# simpan sebagai CSV\n",
        "df_sample.to_csv(\"data_raw.csv\", index=False)\n",
        "\n",
        "print(\"Tahap 1 selesai! File data_raw.csv sudah dibuat\")"
      ],
      "metadata": {
        "colab": {
          "base_uri": "https://localhost:8080/"
        },
        "id": "497TZWQdJ1EA",
        "outputId": "a4e76c73-d954-4275-c6a1-3af8f4b23e35"
      },
      "execution_count": 2,
      "outputs": [
        {
          "output_type": "stream",
          "name": "stdout",
          "text": [
            "Tahap 1 selesai! File data_raw.csv sudah dibuat\n"
          ]
        }
      ]
    }
  ]
}